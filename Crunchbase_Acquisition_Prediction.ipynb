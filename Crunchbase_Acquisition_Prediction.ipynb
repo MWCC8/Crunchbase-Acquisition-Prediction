{
  "nbformat": 4,
  "nbformat_minor": 0,
  "metadata": {
    "colab": {
      "provenance": [],
      "authorship_tag": "ABX9TyONM5sjXFUWVIoeaOx5y+Gv",
      "include_colab_link": true
    },
    "kernelspec": {
      "name": "python3",
      "display_name": "Python 3"
    },
    "language_info": {
      "name": "python"
    }
  },
  "cells": [
    {
      "cell_type": "markdown",
      "metadata": {
        "id": "view-in-github",
        "colab_type": "text"
      },
      "source": [
        "<a href=\"https://colab.research.google.com/github/MWCC8/Crunchbase-Acquisition-Prediction/blob/main/Crunchbase_Acquisition_Prediction.ipynb\" target=\"_parent\"><img src=\"https://colab.research.google.com/assets/colab-badge.svg\" alt=\"Open In Colab\"/></a>"
      ]
    },
    {
      "cell_type": "markdown",
      "source": [
        "# Predicting if a Company on Crunchbase Will be Acquired\n",
        "\n",
        "In the folllowing project, Crunchbase data is used to develop a machine learning classification model that predicts if a company will be acquired. This prediction is made using characteristics of the company, like it's total funding, country of origin, last round of funding, etc."
      ],
      "metadata": {
        "id": "e83FHnLZXM-B"
      }
    },
    {
      "cell_type": "markdown",
      "source": [
        "### Import required packages and import data"
      ],
      "metadata": {
        "id": "7A0aK9gLiw_4"
      }
    },
    {
      "cell_type": "code",
      "execution_count": 1,
      "metadata": {
        "id": "pf4BQqTAslOM"
      },
      "outputs": [],
      "source": [
        "import pandas as pd\n",
        "from sklearn.model_selection import train_test_split\n",
        "from sklearn.ensemble import GradientBoostingClassifier\n",
        "from sklearn.metrics import accuracy_score, precision_score, recall_score\n",
        "import matplotlib.pyplot as plt\n",
        "import numpy as np\n",
        "from random import randint\n",
        "from imblearn.over_sampling import RandomOverSampler\n",
        "from sklearn.model_selection import GridSearchCV\n",
        "from sklearn.model_selection import RandomizedSearchCV\n",
        "from scipy.stats import uniform\n",
        "import scikitplot as skplt"
      ]
    },
    {
      "cell_type": "code",
      "source": [
        "data = pd.read_csv('investments_VC.csv', encoding='unicode_escape')\n",
        "data.dropna(axis = 0, how = 'all', inplace = True)\n",
        "data.rename(columns={' market ': 'market'}, inplace=True)\n",
        "data.rename(columns={' funding_total_usd ': 'funding_total_usd'}, inplace=True)"
      ],
      "metadata": {
        "id": "ThLaqmhcsrhq"
      },
      "execution_count": 2,
      "outputs": []
    },
    {
      "cell_type": "markdown",
      "source": [
        "### Pre-processing\n",
        "\n",
        "In this step, that data is clean and pre-processed for the machine learning model. For instance, categorical variables are encoded with numbers so that the model can read them."
      ],
      "metadata": {
        "id": "AqGLOqGli6kt"
      }
    },
    {
      "cell_type": "code",
      "source": [
        "# status\n",
        "data['status'] = data['status'].replace(['closed'],'not acquired')\n",
        "data['status'] = data['status'].replace(['operating'],'not acquired')\n",
        "\n",
        "status_mapper = {\"acquired\":1, \"not acquired\":0}\n",
        "\n",
        "data[\"status\"] = data[\"status\"].replace(status_mapper)\n",
        "\n",
        "# country\n",
        "data['country_code'] = data['country_code'].apply(lambda x: 'international' if x != 'USA' else x)\n",
        "data['country_code'] = data['country_code'].replace(['USA'],'domestic')\n",
        "\n",
        "country_mapper = {\"domestic\":1, \"international\":0}\n",
        "\n",
        "data[\"country_code\"] = data[\"country_code\"].replace(country_mapper)\n",
        "\n",
        "# market\n",
        "allowed_industries = [\" Software \", \" Biotechnology \", \" E-Commerce \", \" Mobile \", \" Curated Web \"]\n",
        "\n",
        "data['market'] = data['market'].apply(lambda x: x if x in allowed_industries else 'other')\n",
        "\n",
        "market_mapper = {\" Software \":1, \" Biotechnology \":2, \" Mobile \":3, \" E-Commerce \":4, \" Curated Web \":5, \"other\":6}\n",
        "\n",
        "data[\"market\"] = data[\"market\"].replace(market_mapper)\n",
        "\n",
        "# regions\n",
        "allowed_regions = [\"SF Bay Area\", \"New York City\", \"Boston\", \"London\", \"Los Angeles\"]\n",
        "\n",
        "data['region'] = data['region'].apply(lambda x: x if x in allowed_regions else 'other')\n",
        "\n",
        "regions_mapper = {\"SF Bay Area\":1, \"New York City\":2, \"Boston\":3, \"London\":4, \"Los Angeles\":5, \"other\":6}\n",
        "\n",
        "data[\"region\"] = data[\"region\"].replace(regions_mapper)\n",
        "\n",
        "# quarters\n",
        "data['founded_quarter'] = data['founded_quarter'].str[-2:]\n",
        "data['founded_quarter'].fillna(\"Q0\", inplace=True)\n",
        "\n",
        "mapper = {\"Q1\":1, \"Q2\":2, \"Q3\":3, \"Q4\":4, \"Q0\":5}\n",
        "\n",
        "data[\"founded_quarter\"] = data[\"founded_quarter\"].replace(mapper)\n",
        "\n",
        "# months\n",
        "data['founded_month'] = data['founded_month'].str[-2:]\n",
        "data['founded_month'].fillna(\"00\", inplace=True)\n",
        "\n",
        "mapper = {\n",
        "    \"01\": 1, \"02\": 2, \"03\": 3,\n",
        "    \"04\": 4, \"05\": 5, \"06\": 6,\n",
        "    \"07\": 7, \"08\": 8, \"09\": 9,\n",
        "    \"10\": 10, \"11\":11, \"12\": 4, \"00\":0\n",
        "}\n",
        "\n",
        "data[\"founded_month\"] = data[\"founded_month\"].replace(mapper)\n",
        "\n",
        "data.loc[data['founded_year'] >= 2000, 'founded_year'] = 'new'\n",
        "\n",
        "# founded year\n",
        "\n",
        "allowed = ['new']\n",
        "\n",
        "data['founded_year'] = data['founded_year'].apply(lambda x: x if x in allowed else 'old')\n",
        "\n",
        "mapper = {\"new\":1, \"old\":0}\n",
        "\n",
        "data[\"founded_year\"] = data[\"founded_year\"].replace(mapper)\n",
        "\n",
        "# first_funding_at\n",
        "data['first_funding_at'] = data['first_funding_at'].str[:4]\n",
        "data['first_funding_at'].fillna(\"0000\", inplace=True)\n",
        "\n",
        "# last_funding_at\n",
        "data['last_funding_at'] = data['last_funding_at'].str[:4]\n",
        "data['last_funding_at'].fillna(\"0000\", inplace=True)\n",
        "\n",
        "# funding_total_usd\n",
        "data['funding_total_usd'] = data['funding_total_usd'].str.replace(' ', '')\n",
        "data['funding_total_usd'] = data['funding_total_usd'].str.replace(',', '')\n",
        "\n",
        "status_mapper = {\"-\":0}\n",
        "\n",
        "data[\"funding_total_usd\"] = data[\"funding_total_usd\"].replace(status_mapper)"
      ],
      "metadata": {
        "id": "Ow0YEsT_t2u6"
      },
      "execution_count": 3,
      "outputs": []
    },
    {
      "cell_type": "code",
      "source": [
        "# Remove unwanted columns\n",
        "\n",
        "columns_to_remove = ['permalink','name','homepage_url','category_list','state_code','city',\n",
        "                     'founded_at', 'secondary_market','round_F', 'round_G', 'round_H', 'post_ipo_debt',\n",
        "                     'product_crowdfunding', 'equity_crowdfunding', 'post_ipo_equity', 'convertible_note',\n",
        "                     'round_E', 'undisclosed', 'round_C', 'round_D', 'founded_year', 'grant', 'private_equity', 'angel', 'debt_financing']\n",
        "\n",
        "data = data.drop(columns_to_remove, axis=1)"
      ],
      "metadata": {
        "id": "57XUFddgy-Sj"
      },
      "execution_count": 4,
      "outputs": []
    },
    {
      "cell_type": "code",
      "source": [
        "# Convert all columns to the interger datatype\n",
        "\n",
        "object_columns = data.select_dtypes(include=['object']).columns\n",
        "data[object_columns] = data[object_columns].astype(int)\n",
        "\n",
        "print(data.dtypes)"
      ],
      "metadata": {
        "colab": {
          "base_uri": "https://localhost:8080/"
        },
        "id": "mjTAQVJvJ4SZ",
        "outputId": "90fd48c1-ab6d-4823-9435-01c59a828deb"
      },
      "execution_count": 5,
      "outputs": [
        {
          "output_type": "stream",
          "name": "stdout",
          "text": [
            "market                 int64\n",
            "funding_total_usd      int64\n",
            "status               float64\n",
            "country_code           int64\n",
            "region                 int64\n",
            "funding_rounds         int64\n",
            "founded_month          int64\n",
            "founded_quarter        int64\n",
            "first_funding_at       int64\n",
            "last_funding_at        int64\n",
            "seed                   int64\n",
            "venture                int64\n",
            "round_A                int64\n",
            "round_B                int64\n",
            "dtype: object\n"
          ]
        }
      ]
    },
    {
      "cell_type": "code",
      "source": [
        "# Remove rows that are missing a value for the target variable\n",
        "data = data.dropna(subset=['status'])"
      ],
      "metadata": {
        "id": "S8GNjKq6LnhS"
      },
      "execution_count": 6,
      "outputs": []
    },
    {
      "cell_type": "code",
      "source": [
        "data"
      ],
      "metadata": {
        "colab": {
          "base_uri": "https://localhost:8080/",
          "height": 444
        },
        "id": "pE7r4foWLxM3",
        "outputId": "8118c974-8f54-4980-8947-af1ea994411e"
      },
      "execution_count": 7,
      "outputs": [
        {
          "output_type": "execute_result",
          "data": {
            "text/plain": [
              "       market  funding_total_usd  status  country_code  region  \\\n",
              "0           6            1750000     1.0             1       2   \n",
              "1           6            4000000     0.0             1       5   \n",
              "2           6              40000     0.0             0       6   \n",
              "3           6            1500000     0.0             0       4   \n",
              "4           6              60000     0.0             1       6   \n",
              "...       ...                ...     ...           ...     ...   \n",
              "49433       6             320000     0.0             0       4   \n",
              "49434       6            1587301     0.0             0       6   \n",
              "49435       6              97398     0.0             0       6   \n",
              "49436       6            9300000     0.0             0       6   \n",
              "49437       6           45000000     0.0             1       2   \n",
              "\n",
              "       funding_rounds  founded_month  founded_quarter  first_funding_at  \\\n",
              "0                   1              4                2              2012   \n",
              "1                   2              0                5              2010   \n",
              "2                   1              4                4              2012   \n",
              "3                   1             11                2              2011   \n",
              "4                   2             14                1              2014   \n",
              "...               ...            ...              ...               ...   \n",
              "49433               1             13                1              2014   \n",
              "49434               1              0                5              2012   \n",
              "49435               5              4                2              2011   \n",
              "49436               1              0                5              2011   \n",
              "49437               4             99                1              2008   \n",
              "\n",
              "       last_funding_at     seed   venture   round_A   round_B  \n",
              "0                 2012  1750000         0         0         0  \n",
              "1                 2010        0   4000000         0         0  \n",
              "2                 2012    40000         0         0         0  \n",
              "3                 2011  1500000         0         0         0  \n",
              "4                 2014        0         0         0         0  \n",
              "...                ...      ...       ...       ...       ...  \n",
              "49433             2014   320000         0         0         0  \n",
              "49434             2012        0   1587301   1587301         0  \n",
              "49435             2014    71525         0         0         0  \n",
              "49436             2011  9300000         0         0         0  \n",
              "49437             2013        0  28000000  16000000  10000000  \n",
              "\n",
              "[48124 rows x 14 columns]"
            ],
            "text/html": [
              "\n",
              "  <div id=\"df-04d98000-fba9-4b05-aa5f-563eb1a9ff85\" class=\"colab-df-container\">\n",
              "    <div>\n",
              "<style scoped>\n",
              "    .dataframe tbody tr th:only-of-type {\n",
              "        vertical-align: middle;\n",
              "    }\n",
              "\n",
              "    .dataframe tbody tr th {\n",
              "        vertical-align: top;\n",
              "    }\n",
              "\n",
              "    .dataframe thead th {\n",
              "        text-align: right;\n",
              "    }\n",
              "</style>\n",
              "<table border=\"1\" class=\"dataframe\">\n",
              "  <thead>\n",
              "    <tr style=\"text-align: right;\">\n",
              "      <th></th>\n",
              "      <th>market</th>\n",
              "      <th>funding_total_usd</th>\n",
              "      <th>status</th>\n",
              "      <th>country_code</th>\n",
              "      <th>region</th>\n",
              "      <th>funding_rounds</th>\n",
              "      <th>founded_month</th>\n",
              "      <th>founded_quarter</th>\n",
              "      <th>first_funding_at</th>\n",
              "      <th>last_funding_at</th>\n",
              "      <th>seed</th>\n",
              "      <th>venture</th>\n",
              "      <th>round_A</th>\n",
              "      <th>round_B</th>\n",
              "    </tr>\n",
              "  </thead>\n",
              "  <tbody>\n",
              "    <tr>\n",
              "      <th>0</th>\n",
              "      <td>6</td>\n",
              "      <td>1750000</td>\n",
              "      <td>1.0</td>\n",
              "      <td>1</td>\n",
              "      <td>2</td>\n",
              "      <td>1</td>\n",
              "      <td>4</td>\n",
              "      <td>2</td>\n",
              "      <td>2012</td>\n",
              "      <td>2012</td>\n",
              "      <td>1750000</td>\n",
              "      <td>0</td>\n",
              "      <td>0</td>\n",
              "      <td>0</td>\n",
              "    </tr>\n",
              "    <tr>\n",
              "      <th>1</th>\n",
              "      <td>6</td>\n",
              "      <td>4000000</td>\n",
              "      <td>0.0</td>\n",
              "      <td>1</td>\n",
              "      <td>5</td>\n",
              "      <td>2</td>\n",
              "      <td>0</td>\n",
              "      <td>5</td>\n",
              "      <td>2010</td>\n",
              "      <td>2010</td>\n",
              "      <td>0</td>\n",
              "      <td>4000000</td>\n",
              "      <td>0</td>\n",
              "      <td>0</td>\n",
              "    </tr>\n",
              "    <tr>\n",
              "      <th>2</th>\n",
              "      <td>6</td>\n",
              "      <td>40000</td>\n",
              "      <td>0.0</td>\n",
              "      <td>0</td>\n",
              "      <td>6</td>\n",
              "      <td>1</td>\n",
              "      <td>4</td>\n",
              "      <td>4</td>\n",
              "      <td>2012</td>\n",
              "      <td>2012</td>\n",
              "      <td>40000</td>\n",
              "      <td>0</td>\n",
              "      <td>0</td>\n",
              "      <td>0</td>\n",
              "    </tr>\n",
              "    <tr>\n",
              "      <th>3</th>\n",
              "      <td>6</td>\n",
              "      <td>1500000</td>\n",
              "      <td>0.0</td>\n",
              "      <td>0</td>\n",
              "      <td>4</td>\n",
              "      <td>1</td>\n",
              "      <td>11</td>\n",
              "      <td>2</td>\n",
              "      <td>2011</td>\n",
              "      <td>2011</td>\n",
              "      <td>1500000</td>\n",
              "      <td>0</td>\n",
              "      <td>0</td>\n",
              "      <td>0</td>\n",
              "    </tr>\n",
              "    <tr>\n",
              "      <th>4</th>\n",
              "      <td>6</td>\n",
              "      <td>60000</td>\n",
              "      <td>0.0</td>\n",
              "      <td>1</td>\n",
              "      <td>6</td>\n",
              "      <td>2</td>\n",
              "      <td>14</td>\n",
              "      <td>1</td>\n",
              "      <td>2014</td>\n",
              "      <td>2014</td>\n",
              "      <td>0</td>\n",
              "      <td>0</td>\n",
              "      <td>0</td>\n",
              "      <td>0</td>\n",
              "    </tr>\n",
              "    <tr>\n",
              "      <th>...</th>\n",
              "      <td>...</td>\n",
              "      <td>...</td>\n",
              "      <td>...</td>\n",
              "      <td>...</td>\n",
              "      <td>...</td>\n",
              "      <td>...</td>\n",
              "      <td>...</td>\n",
              "      <td>...</td>\n",
              "      <td>...</td>\n",
              "      <td>...</td>\n",
              "      <td>...</td>\n",
              "      <td>...</td>\n",
              "      <td>...</td>\n",
              "      <td>...</td>\n",
              "    </tr>\n",
              "    <tr>\n",
              "      <th>49433</th>\n",
              "      <td>6</td>\n",
              "      <td>320000</td>\n",
              "      <td>0.0</td>\n",
              "      <td>0</td>\n",
              "      <td>4</td>\n",
              "      <td>1</td>\n",
              "      <td>13</td>\n",
              "      <td>1</td>\n",
              "      <td>2014</td>\n",
              "      <td>2014</td>\n",
              "      <td>320000</td>\n",
              "      <td>0</td>\n",
              "      <td>0</td>\n",
              "      <td>0</td>\n",
              "    </tr>\n",
              "    <tr>\n",
              "      <th>49434</th>\n",
              "      <td>6</td>\n",
              "      <td>1587301</td>\n",
              "      <td>0.0</td>\n",
              "      <td>0</td>\n",
              "      <td>6</td>\n",
              "      <td>1</td>\n",
              "      <td>0</td>\n",
              "      <td>5</td>\n",
              "      <td>2012</td>\n",
              "      <td>2012</td>\n",
              "      <td>0</td>\n",
              "      <td>1587301</td>\n",
              "      <td>1587301</td>\n",
              "      <td>0</td>\n",
              "    </tr>\n",
              "    <tr>\n",
              "      <th>49435</th>\n",
              "      <td>6</td>\n",
              "      <td>97398</td>\n",
              "      <td>0.0</td>\n",
              "      <td>0</td>\n",
              "      <td>6</td>\n",
              "      <td>5</td>\n",
              "      <td>4</td>\n",
              "      <td>2</td>\n",
              "      <td>2011</td>\n",
              "      <td>2014</td>\n",
              "      <td>71525</td>\n",
              "      <td>0</td>\n",
              "      <td>0</td>\n",
              "      <td>0</td>\n",
              "    </tr>\n",
              "    <tr>\n",
              "      <th>49436</th>\n",
              "      <td>6</td>\n",
              "      <td>9300000</td>\n",
              "      <td>0.0</td>\n",
              "      <td>0</td>\n",
              "      <td>6</td>\n",
              "      <td>1</td>\n",
              "      <td>0</td>\n",
              "      <td>5</td>\n",
              "      <td>2011</td>\n",
              "      <td>2011</td>\n",
              "      <td>9300000</td>\n",
              "      <td>0</td>\n",
              "      <td>0</td>\n",
              "      <td>0</td>\n",
              "    </tr>\n",
              "    <tr>\n",
              "      <th>49437</th>\n",
              "      <td>6</td>\n",
              "      <td>45000000</td>\n",
              "      <td>0.0</td>\n",
              "      <td>1</td>\n",
              "      <td>2</td>\n",
              "      <td>4</td>\n",
              "      <td>99</td>\n",
              "      <td>1</td>\n",
              "      <td>2008</td>\n",
              "      <td>2013</td>\n",
              "      <td>0</td>\n",
              "      <td>28000000</td>\n",
              "      <td>16000000</td>\n",
              "      <td>10000000</td>\n",
              "    </tr>\n",
              "  </tbody>\n",
              "</table>\n",
              "<p>48124 rows × 14 columns</p>\n",
              "</div>\n",
              "    <div class=\"colab-df-buttons\">\n",
              "\n",
              "  <div class=\"colab-df-container\">\n",
              "    <button class=\"colab-df-convert\" onclick=\"convertToInteractive('df-04d98000-fba9-4b05-aa5f-563eb1a9ff85')\"\n",
              "            title=\"Convert this dataframe to an interactive table.\"\n",
              "            style=\"display:none;\">\n",
              "\n",
              "  <svg xmlns=\"http://www.w3.org/2000/svg\" height=\"24px\" viewBox=\"0 -960 960 960\">\n",
              "    <path d=\"M120-120v-720h720v720H120Zm60-500h600v-160H180v160Zm220 220h160v-160H400v160Zm0 220h160v-160H400v160ZM180-400h160v-160H180v160Zm440 0h160v-160H620v160ZM180-180h160v-160H180v160Zm440 0h160v-160H620v160Z\"/>\n",
              "  </svg>\n",
              "    </button>\n",
              "\n",
              "  <style>\n",
              "    .colab-df-container {\n",
              "      display:flex;\n",
              "      gap: 12px;\n",
              "    }\n",
              "\n",
              "    .colab-df-convert {\n",
              "      background-color: #E8F0FE;\n",
              "      border: none;\n",
              "      border-radius: 50%;\n",
              "      cursor: pointer;\n",
              "      display: none;\n",
              "      fill: #1967D2;\n",
              "      height: 32px;\n",
              "      padding: 0 0 0 0;\n",
              "      width: 32px;\n",
              "    }\n",
              "\n",
              "    .colab-df-convert:hover {\n",
              "      background-color: #E2EBFA;\n",
              "      box-shadow: 0px 1px 2px rgba(60, 64, 67, 0.3), 0px 1px 3px 1px rgba(60, 64, 67, 0.15);\n",
              "      fill: #174EA6;\n",
              "    }\n",
              "\n",
              "    .colab-df-buttons div {\n",
              "      margin-bottom: 4px;\n",
              "    }\n",
              "\n",
              "    [theme=dark] .colab-df-convert {\n",
              "      background-color: #3B4455;\n",
              "      fill: #D2E3FC;\n",
              "    }\n",
              "\n",
              "    [theme=dark] .colab-df-convert:hover {\n",
              "      background-color: #434B5C;\n",
              "      box-shadow: 0px 1px 3px 1px rgba(0, 0, 0, 0.15);\n",
              "      filter: drop-shadow(0px 1px 2px rgba(0, 0, 0, 0.3));\n",
              "      fill: #FFFFFF;\n",
              "    }\n",
              "  </style>\n",
              "\n",
              "    <script>\n",
              "      const buttonEl =\n",
              "        document.querySelector('#df-04d98000-fba9-4b05-aa5f-563eb1a9ff85 button.colab-df-convert');\n",
              "      buttonEl.style.display =\n",
              "        google.colab.kernel.accessAllowed ? 'block' : 'none';\n",
              "\n",
              "      async function convertToInteractive(key) {\n",
              "        const element = document.querySelector('#df-04d98000-fba9-4b05-aa5f-563eb1a9ff85');\n",
              "        const dataTable =\n",
              "          await google.colab.kernel.invokeFunction('convertToInteractive',\n",
              "                                                    [key], {});\n",
              "        if (!dataTable) return;\n",
              "\n",
              "        const docLinkHtml = 'Like what you see? Visit the ' +\n",
              "          '<a target=\"_blank\" href=https://colab.research.google.com/notebooks/data_table.ipynb>data table notebook</a>'\n",
              "          + ' to learn more about interactive tables.';\n",
              "        element.innerHTML = '';\n",
              "        dataTable['output_type'] = 'display_data';\n",
              "        await google.colab.output.renderOutput(dataTable, element);\n",
              "        const docLink = document.createElement('div');\n",
              "        docLink.innerHTML = docLinkHtml;\n",
              "        element.appendChild(docLink);\n",
              "      }\n",
              "    </script>\n",
              "  </div>\n",
              "\n",
              "\n",
              "<div id=\"df-71e1ac16-2c25-4ca7-be82-4d58ebecd06a\">\n",
              "  <button class=\"colab-df-quickchart\" onclick=\"quickchart('df-71e1ac16-2c25-4ca7-be82-4d58ebecd06a')\"\n",
              "            title=\"Suggest charts.\"\n",
              "            style=\"display:none;\">\n",
              "\n",
              "<svg xmlns=\"http://www.w3.org/2000/svg\" height=\"24px\"viewBox=\"0 0 24 24\"\n",
              "     width=\"24px\">\n",
              "    <g>\n",
              "        <path d=\"M19 3H5c-1.1 0-2 .9-2 2v14c0 1.1.9 2 2 2h14c1.1 0 2-.9 2-2V5c0-1.1-.9-2-2-2zM9 17H7v-7h2v7zm4 0h-2V7h2v10zm4 0h-2v-4h2v4z\"/>\n",
              "    </g>\n",
              "</svg>\n",
              "  </button>\n",
              "\n",
              "<style>\n",
              "  .colab-df-quickchart {\n",
              "      --bg-color: #E8F0FE;\n",
              "      --fill-color: #1967D2;\n",
              "      --hover-bg-color: #E2EBFA;\n",
              "      --hover-fill-color: #174EA6;\n",
              "      --disabled-fill-color: #AAA;\n",
              "      --disabled-bg-color: #DDD;\n",
              "  }\n",
              "\n",
              "  [theme=dark] .colab-df-quickchart {\n",
              "      --bg-color: #3B4455;\n",
              "      --fill-color: #D2E3FC;\n",
              "      --hover-bg-color: #434B5C;\n",
              "      --hover-fill-color: #FFFFFF;\n",
              "      --disabled-bg-color: #3B4455;\n",
              "      --disabled-fill-color: #666;\n",
              "  }\n",
              "\n",
              "  .colab-df-quickchart {\n",
              "    background-color: var(--bg-color);\n",
              "    border: none;\n",
              "    border-radius: 50%;\n",
              "    cursor: pointer;\n",
              "    display: none;\n",
              "    fill: var(--fill-color);\n",
              "    height: 32px;\n",
              "    padding: 0;\n",
              "    width: 32px;\n",
              "  }\n",
              "\n",
              "  .colab-df-quickchart:hover {\n",
              "    background-color: var(--hover-bg-color);\n",
              "    box-shadow: 0 1px 2px rgba(60, 64, 67, 0.3), 0 1px 3px 1px rgba(60, 64, 67, 0.15);\n",
              "    fill: var(--button-hover-fill-color);\n",
              "  }\n",
              "\n",
              "  .colab-df-quickchart-complete:disabled,\n",
              "  .colab-df-quickchart-complete:disabled:hover {\n",
              "    background-color: var(--disabled-bg-color);\n",
              "    fill: var(--disabled-fill-color);\n",
              "    box-shadow: none;\n",
              "  }\n",
              "\n",
              "  .colab-df-spinner {\n",
              "    border: 2px solid var(--fill-color);\n",
              "    border-color: transparent;\n",
              "    border-bottom-color: var(--fill-color);\n",
              "    animation:\n",
              "      spin 1s steps(1) infinite;\n",
              "  }\n",
              "\n",
              "  @keyframes spin {\n",
              "    0% {\n",
              "      border-color: transparent;\n",
              "      border-bottom-color: var(--fill-color);\n",
              "      border-left-color: var(--fill-color);\n",
              "    }\n",
              "    20% {\n",
              "      border-color: transparent;\n",
              "      border-left-color: var(--fill-color);\n",
              "      border-top-color: var(--fill-color);\n",
              "    }\n",
              "    30% {\n",
              "      border-color: transparent;\n",
              "      border-left-color: var(--fill-color);\n",
              "      border-top-color: var(--fill-color);\n",
              "      border-right-color: var(--fill-color);\n",
              "    }\n",
              "    40% {\n",
              "      border-color: transparent;\n",
              "      border-right-color: var(--fill-color);\n",
              "      border-top-color: var(--fill-color);\n",
              "    }\n",
              "    60% {\n",
              "      border-color: transparent;\n",
              "      border-right-color: var(--fill-color);\n",
              "    }\n",
              "    80% {\n",
              "      border-color: transparent;\n",
              "      border-right-color: var(--fill-color);\n",
              "      border-bottom-color: var(--fill-color);\n",
              "    }\n",
              "    90% {\n",
              "      border-color: transparent;\n",
              "      border-bottom-color: var(--fill-color);\n",
              "    }\n",
              "  }\n",
              "</style>\n",
              "\n",
              "  <script>\n",
              "    async function quickchart(key) {\n",
              "      const quickchartButtonEl =\n",
              "        document.querySelector('#' + key + ' button');\n",
              "      quickchartButtonEl.disabled = true;  // To prevent multiple clicks.\n",
              "      quickchartButtonEl.classList.add('colab-df-spinner');\n",
              "      try {\n",
              "        const charts = await google.colab.kernel.invokeFunction(\n",
              "            'suggestCharts', [key], {});\n",
              "      } catch (error) {\n",
              "        console.error('Error during call to suggestCharts:', error);\n",
              "      }\n",
              "      quickchartButtonEl.classList.remove('colab-df-spinner');\n",
              "      quickchartButtonEl.classList.add('colab-df-quickchart-complete');\n",
              "    }\n",
              "    (() => {\n",
              "      let quickchartButtonEl =\n",
              "        document.querySelector('#df-71e1ac16-2c25-4ca7-be82-4d58ebecd06a button');\n",
              "      quickchartButtonEl.style.display =\n",
              "        google.colab.kernel.accessAllowed ? 'block' : 'none';\n",
              "    })();\n",
              "  </script>\n",
              "</div>\n",
              "    </div>\n",
              "  </div>\n"
            ]
          },
          "metadata": {},
          "execution_count": 7
        }
      ]
    },
    {
      "cell_type": "markdown",
      "source": [
        "### Create the Classification Model"
      ],
      "metadata": {
        "id": "10QvfokIEodo"
      }
    },
    {
      "cell_type": "code",
      "source": [
        "# y, our target, is the status, i.e., if a company is acquired (1) or not (0)\n",
        "\n",
        "y = data['status']"
      ],
      "metadata": {
        "id": "-0bD9qucylvv"
      },
      "execution_count": 8,
      "outputs": []
    },
    {
      "cell_type": "code",
      "source": [
        "X = data.drop('status', axis=1)"
      ],
      "metadata": {
        "id": "dZBI6fDlylyY"
      },
      "execution_count": 9,
      "outputs": []
    },
    {
      "cell_type": "code",
      "source": [
        "X_train, X_test, y_train, y_test = train_test_split(X, y, test_size = 0.33, random_state = 1)"
      ],
      "metadata": {
        "id": "jCPRLyxNyl1a"
      },
      "execution_count": 10,
      "outputs": []
    },
    {
      "cell_type": "code",
      "source": [
        "# Balance Data:\n",
        "# Only ~9% of the rows has a value of 1 for the target variable. This imbalance makes it harder to train our model\n",
        "# accurately. To fix this, we balance that dataset before training.\n",
        "\n",
        "ros = RandomOverSampler(sampling_strategy=1)\n",
        "X_train_ros, y_train_ros = ros.fit_resample(X_train, y_train)"
      ],
      "metadata": {
        "id": "14mrQocPdstD"
      },
      "execution_count": 11,
      "outputs": []
    },
    {
      "cell_type": "code",
      "source": [
        "# The hyperparameters are set here based on the results of the hyperparameter tuning done below.\n",
        "\n",
        "gbt = GradientBoostingClassifier(random_state = 147017,\n",
        "                                          max_depth = 28,\n",
        "                                          learning_rate = 0.5847829080787613,\n",
        "                                          max_leaf_nodes = 95)"
      ],
      "metadata": {
        "id": "r2NAV9M9yl38"
      },
      "execution_count": 12,
      "outputs": []
    },
    {
      "cell_type": "code",
      "source": [
        "# Fit the model\n",
        "\n",
        "model = gbt.fit(X_train_ros, y_train_ros)"
      ],
      "metadata": {
        "id": "bj-Ha1KFyl6C"
      },
      "execution_count": 13,
      "outputs": []
    },
    {
      "cell_type": "code",
      "source": [
        "# Make a prediction using the test data\n",
        "\n",
        "y_test_pred = model.predict(X_test)"
      ],
      "metadata": {
        "id": "EWy_voHVyl9A"
      },
      "execution_count": 14,
      "outputs": []
    },
    {
      "cell_type": "code",
      "source": [
        "# Print the model accuracy\n",
        "\n",
        "print(\"The model accuracy is\",round(accuracy_score(y_test, y_test_pred)*100,3),\"%.\")"
      ],
      "metadata": {
        "colab": {
          "base_uri": "https://localhost:8080/"
        },
        "id": "Af8c5w5RMLQV",
        "outputId": "0877f5ff-1f50-4a92-d127-54b96974eb1e"
      },
      "execution_count": 15,
      "outputs": [
        {
          "output_type": "stream",
          "name": "stdout",
          "text": [
            "The model accuracy is 87.167 %.\n"
          ]
        }
      ]
    },
    {
      "cell_type": "code",
      "source": [
        "# Plot feature importance - This chart will show how important each company characteristic is for\n",
        "# predicting an acquisition\n",
        "feature_importance = model.feature_importances_\n",
        "# make importances relative to max importance\n",
        "feature_importance = 100.0 * (feature_importance / feature_importance.max())\n",
        "sorted_idx = np.argsort(feature_importance)\n",
        "pos = np.arange(sorted_idx.shape[0]) + .5\n",
        "# plt.subplot(1, 2, 2)\n",
        "plt.figure(figsize=(8, 18))\n",
        "plt.barh(pos, feature_importance[sorted_idx], align='center')\n",
        "plt.yticks(pos, X_train.keys()[sorted_idx])\n",
        "plt.xlabel('Relative Importance')\n",
        "plt.title('Variable Importance')\n",
        "plt.show()"
      ],
      "metadata": {
        "colab": {
          "base_uri": "https://localhost:8080/",
          "height": 1000
        },
        "id": "-utoSxnwUc3J",
        "outputId": "ac5087f8-4ac7-42bf-e138-8c4f8f17a6cb"
      },
      "execution_count": 16,
      "outputs": [
        {
          "output_type": "display_data",
          "data": {
            "text/plain": [
              "<Figure size 800x1800 with 1 Axes>"
            ],
            "image/png": "[encoded data removed]"
          },
          "metadata": {}
        }
      ]
    },
    {
      "cell_type": "markdown",
      "source": [
        "### Visualize Model Performance"
      ],
      "metadata": {
        "id": "igbmH0aAa9-o"
      }
    },
    {
      "cell_type": "code",
      "source": [
        "skplt.metrics.plot_confusion_matrix(y_test, y_test_pred, normalize=False, title = 'Confusion Matrix')"
      ],
      "metadata": {
        "colab": {
          "base_uri": "https://localhost:8080/",
          "height": 489
        },
        "id": "UpqGlIruaeqF",
        "outputId": "6e526921-cdaa-4447-994c-93c0ceefb543"
      },
      "execution_count": 22,
      "outputs": [
        {
          "output_type": "execute_result",
          "data": {
            "text/plain": [
              "<Axes: title={'center': 'Confusion Matrix'}, xlabel='Predicted label', ylabel='True label'>"
            ]
          },
          "metadata": {},
          "execution_count": 22
        },
        {
          "output_type": "display_data",
          "data": {
            "text/plain": [
              "<Figure size 640x480 with 2 Axes>"
            ],
            "image/png": "[encoded data removed]"
          },
          "metadata": {}
        }
      ]
    },
    {
      "cell_type": "markdown",
      "source": [
        "### Case Study - Putting the model to work\n",
        "\n",
        "Imagine there are three companies. The first is an American software company from San Francisco with 10M USD in total funding since its first funding in 2020. The second company is an Austrian Biotech company with 50M USD in total funding since its first funding in 2018. Finally, the last company is a Canadian E-commerce company with 1.75M USD in total funding since its first funding in 2012. Let's use the model to predict which of these companies will be acquired. The Excel uploaded in the next step contains all the data on the companies."
      ],
      "metadata": {
        "id": "7A85fzFmbSM9"
      }
    },
    {
      "cell_type": "code",
      "source": [
        "cs_data = pd.read_excel('Case_study.xlsx')"
      ],
      "metadata": {
        "id": "AzIjTNbXae3V"
      },
      "execution_count": 96,
      "outputs": []
    },
    {
      "cell_type": "code",
      "source": [
        "cs_data"
      ],
      "metadata": {
        "colab": {
          "base_uri": "https://localhost:8080/",
          "height": 163
        },
        "id": "hK_ecsuigps-",
        "outputId": "6a107f78-19ea-4939-b473-56339373e294"
      },
      "execution_count": 97,
      "outputs": [
        {
          "output_type": "execute_result",
          "data": {
            "text/plain": [
              "   market  funding_total_usd  status  country_code  region  funding_rounds  \\\n",
              "0       1            1000000     NaN             1       1               1   \n",
              "1       2           50000000     NaN             0       6               2   \n",
              "2       3            1750000     NaN             0       6               1   \n",
              "\n",
              "   founded_month  founded_quarter  first_funding_at  last_funding_at  \\\n",
              "0              4                2              2020             2020   \n",
              "1              1                1              2018             2021   \n",
              "2              4                2              2012             2012   \n",
              "\n",
              "       seed   venture   round_A   round_B  \n",
              "0   1000000         0         0         0  \n",
              "1  10000000  10000000  10000000  20000000  \n",
              "2   1750000         0         0         0  "
            ],
            "text/html": [
              "\n",
              "  <div id=\"df-721f307c-bbcc-401c-b18b-33bf6446826d\" class=\"colab-df-container\">\n",
              "    <div>\n",
              "<style scoped>\n",
              "    .dataframe tbody tr th:only-of-type {\n",
              "        vertical-align: middle;\n",
              "    }\n",
              "\n",
              "    .dataframe tbody tr th {\n",
              "        vertical-align: top;\n",
              "    }\n",
              "\n",
              "    .dataframe thead th {\n",
              "        text-align: right;\n",
              "    }\n",
              "</style>\n",
              "<table border=\"1\" class=\"dataframe\">\n",
              "  <thead>\n",
              "    <tr style=\"text-align: right;\">\n",
              "      <th></th>\n",
              "      <th>market</th>\n",
              "      <th>funding_total_usd</th>\n",
              "      <th>status</th>\n",
              "      <th>country_code</th>\n",
              "      <th>region</th>\n",
              "      <th>funding_rounds</th>\n",
              "      <th>founded_month</th>\n",
              "      <th>founded_quarter</th>\n",
              "      <th>first_funding_at</th>\n",
              "      <th>last_funding_at</th>\n",
              "      <th>seed</th>\n",
              "      <th>venture</th>\n",
              "      <th>round_A</th>\n",
              "      <th>round_B</th>\n",
              "    </tr>\n",
              "  </thead>\n",
              "  <tbody>\n",
              "    <tr>\n",
              "      <th>0</th>\n",
              "      <td>1</td>\n",
              "      <td>1000000</td>\n",
              "      <td>NaN</td>\n",
              "      <td>1</td>\n",
              "      <td>1</td>\n",
              "      <td>1</td>\n",
              "      <td>4</td>\n",
              "      <td>2</td>\n",
              "      <td>2020</td>\n",
              "      <td>2020</td>\n",
              "      <td>1000000</td>\n",
              "      <td>0</td>\n",
              "      <td>0</td>\n",
              "      <td>0</td>\n",
              "    </tr>\n",
              "    <tr>\n",
              "      <th>1</th>\n",
              "      <td>2</td>\n",
              "      <td>50000000</td>\n",
              "      <td>NaN</td>\n",
              "      <td>0</td>\n",
              "      <td>6</td>\n",
              "      <td>2</td>\n",
              "      <td>1</td>\n",
              "      <td>1</td>\n",
              "      <td>2018</td>\n",
              "      <td>2021</td>\n",
              "      <td>10000000</td>\n",
              "      <td>10000000</td>\n",
              "      <td>10000000</td>\n",
              "      <td>20000000</td>\n",
              "    </tr>\n",
              "    <tr>\n",
              "      <th>2</th>\n",
              "      <td>3</td>\n",
              "      <td>1750000</td>\n",
              "      <td>NaN</td>\n",
              "      <td>0</td>\n",
              "      <td>6</td>\n",
              "      <td>1</td>\n",
              "      <td>4</td>\n",
              "      <td>2</td>\n",
              "      <td>2012</td>\n",
              "      <td>2012</td>\n",
              "      <td>1750000</td>\n",
              "      <td>0</td>\n",
              "      <td>0</td>\n",
              "      <td>0</td>\n",
              "    </tr>\n",
              "  </tbody>\n",
              "</table>\n",
              "</div>\n",
              "    <div class=\"colab-df-buttons\">\n",
              "\n",
              "  <div class=\"colab-df-container\">\n",
              "    <button class=\"colab-df-convert\" onclick=\"convertToInteractive('df-721f307c-bbcc-401c-b18b-33bf6446826d')\"\n",
              "            title=\"Convert this dataframe to an interactive table.\"\n",
              "            style=\"display:none;\">\n",
              "\n",
              "  <svg xmlns=\"http://www.w3.org/2000/svg\" height=\"24px\" viewBox=\"0 -960 960 960\">\n",
              "    <path d=\"M120-120v-720h720v720H120Zm60-500h600v-160H180v160Zm220 220h160v-160H400v160Zm0 220h160v-160H400v160ZM180-400h160v-160H180v160Zm440 0h160v-160H620v160ZM180-180h160v-160H180v160Zm440 0h160v-160H620v160Z\"/>\n",
              "  </svg>\n",
              "    </button>\n",
              "\n",
              "  <style>\n",
              "    .colab-df-container {\n",
              "      display:flex;\n",
              "      gap: 12px;\n",
              "    }\n",
              "\n",
              "    .colab-df-convert {\n",
              "      background-color: #E8F0FE;\n",
              "      border: none;\n",
              "      border-radius: 50%;\n",
              "      cursor: pointer;\n",
              "      display: none;\n",
              "      fill: #1967D2;\n",
              "      height: 32px;\n",
              "      padding: 0 0 0 0;\n",
              "      width: 32px;\n",
              "    }\n",
              "\n",
              "    .colab-df-convert:hover {\n",
              "      background-color: #E2EBFA;\n",
              "      box-shadow: 0px 1px 2px rgba(60, 64, 67, 0.3), 0px 1px 3px 1px rgba(60, 64, 67, 0.15);\n",
              "      fill: #174EA6;\n",
              "    }\n",
              "\n",
              "    .colab-df-buttons div {\n",
              "      margin-bottom: 4px;\n",
              "    }\n",
              "\n",
              "    [theme=dark] .colab-df-convert {\n",
              "      background-color: #3B4455;\n",
              "      fill: #D2E3FC;\n",
              "    }\n",
              "\n",
              "    [theme=dark] .colab-df-convert:hover {\n",
              "      background-color: #434B5C;\n",
              "      box-shadow: 0px 1px 3px 1px rgba(0, 0, 0, 0.15);\n",
              "      filter: drop-shadow(0px 1px 2px rgba(0, 0, 0, 0.3));\n",
              "      fill: #FFFFFF;\n",
              "    }\n",
              "  </style>\n",
              "\n",
              "    <script>\n",
              "      const buttonEl =\n",
              "        document.querySelector('#df-721f307c-bbcc-401c-b18b-33bf6446826d button.colab-df-convert');\n",
              "      buttonEl.style.display =\n",
              "        google.colab.kernel.accessAllowed ? 'block' : 'none';\n",
              "\n",
              "      async function convertToInteractive(key) {\n",
              "        const element = document.querySelector('#df-721f307c-bbcc-401c-b18b-33bf6446826d');\n",
              "        const dataTable =\n",
              "          await google.colab.kernel.invokeFunction('convertToInteractive',\n",
              "                                                    [key], {});\n",
              "        if (!dataTable) return;\n",
              "\n",
              "        const docLinkHtml = 'Like what you see? Visit the ' +\n",
              "          '<a target=\"_blank\" href=https://colab.research.google.com/notebooks/data_table.ipynb>data table notebook</a>'\n",
              "          + ' to learn more about interactive tables.';\n",
              "        element.innerHTML = '';\n",
              "        dataTable['output_type'] = 'display_data';\n",
              "        await google.colab.output.renderOutput(dataTable, element);\n",
              "        const docLink = document.createElement('div');\n",
              "        docLink.innerHTML = docLinkHtml;\n",
              "        element.appendChild(docLink);\n",
              "      }\n",
              "    </script>\n",
              "  </div>\n",
              "\n",
              "\n",
              "<div id=\"df-40d5b335-f75e-44b9-8731-1e325a8b4e57\">\n",
              "  <button class=\"colab-df-quickchart\" onclick=\"quickchart('df-40d5b335-f75e-44b9-8731-1e325a8b4e57')\"\n",
              "            title=\"Suggest charts.\"\n",
              "            style=\"display:none;\">\n",
              "\n",
              "<svg xmlns=\"http://www.w3.org/2000/svg\" height=\"24px\"viewBox=\"0 0 24 24\"\n",
              "     width=\"24px\">\n",
              "    <g>\n",
              "        <path d=\"M19 3H5c-1.1 0-2 .9-2 2v14c0 1.1.9 2 2 2h14c1.1 0 2-.9 2-2V5c0-1.1-.9-2-2-2zM9 17H7v-7h2v7zm4 0h-2V7h2v10zm4 0h-2v-4h2v4z\"/>\n",
              "    </g>\n",
              "</svg>\n",
              "  </button>\n",
              "\n",
              "<style>\n",
              "  .colab-df-quickchart {\n",
              "      --bg-color: #E8F0FE;\n",
              "      --fill-color: #1967D2;\n",
              "      --hover-bg-color: #E2EBFA;\n",
              "      --hover-fill-color: #174EA6;\n",
              "      --disabled-fill-color: #AAA;\n",
              "      --disabled-bg-color: #DDD;\n",
              "  }\n",
              "\n",
              "  [theme=dark] .colab-df-quickchart {\n",
              "      --bg-color: #3B4455;\n",
              "      --fill-color: #D2E3FC;\n",
              "      --hover-bg-color: #434B5C;\n",
              "      --hover-fill-color: #FFFFFF;\n",
              "      --disabled-bg-color: #3B4455;\n",
              "      --disabled-fill-color: #666;\n",
              "  }\n",
              "\n",
              "  .colab-df-quickchart {\n",
              "    background-color: var(--bg-color);\n",
              "    border: none;\n",
              "    border-radius: 50%;\n",
              "    cursor: pointer;\n",
              "    display: none;\n",
              "    fill: var(--fill-color);\n",
              "    height: 32px;\n",
              "    padding: 0;\n",
              "    width: 32px;\n",
              "  }\n",
              "\n",
              "  .colab-df-quickchart:hover {\n",
              "    background-color: var(--hover-bg-color);\n",
              "    box-shadow: 0 1px 2px rgba(60, 64, 67, 0.3), 0 1px 3px 1px rgba(60, 64, 67, 0.15);\n",
              "    fill: var(--button-hover-fill-color);\n",
              "  }\n",
              "\n",
              "  .colab-df-quickchart-complete:disabled,\n",
              "  .colab-df-quickchart-complete:disabled:hover {\n",
              "    background-color: var(--disabled-bg-color);\n",
              "    fill: var(--disabled-fill-color);\n",
              "    box-shadow: none;\n",
              "  }\n",
              "\n",
              "  .colab-df-spinner {\n",
              "    border: 2px solid var(--fill-color);\n",
              "    border-color: transparent;\n",
              "    border-bottom-color: var(--fill-color);\n",
              "    animation:\n",
              "      spin 1s steps(1) infinite;\n",
              "  }\n",
              "\n",
              "  @keyframes spin {\n",
              "    0% {\n",
              "      border-color: transparent;\n",
              "      border-bottom-color: var(--fill-color);\n",
              "      border-left-color: var(--fill-color);\n",
              "    }\n",
              "    20% {\n",
              "      border-color: transparent;\n",
              "      border-left-color: var(--fill-color);\n",
              "      border-top-color: var(--fill-color);\n",
              "    }\n",
              "    30% {\n",
              "      border-color: transparent;\n",
              "      border-left-color: var(--fill-color);\n",
              "      border-top-color: var(--fill-color);\n",
              "      border-right-color: var(--fill-color);\n",
              "    }\n",
              "    40% {\n",
              "      border-color: transparent;\n",
              "      border-right-color: var(--fill-color);\n",
              "      border-top-color: var(--fill-color);\n",
              "    }\n",
              "    60% {\n",
              "      border-color: transparent;\n",
              "      border-right-color: var(--fill-color);\n",
              "    }\n",
              "    80% {\n",
              "      border-color: transparent;\n",
              "      border-right-color: var(--fill-color);\n",
              "      border-bottom-color: var(--fill-color);\n",
              "    }\n",
              "    90% {\n",
              "      border-color: transparent;\n",
              "      border-bottom-color: var(--fill-color);\n",
              "    }\n",
              "  }\n",
              "</style>\n",
              "\n",
              "  <script>\n",
              "    async function quickchart(key) {\n",
              "      const quickchartButtonEl =\n",
              "        document.querySelector('#' + key + ' button');\n",
              "      quickchartButtonEl.disabled = true;  // To prevent multiple clicks.\n",
              "      quickchartButtonEl.classList.add('colab-df-spinner');\n",
              "      try {\n",
              "        const charts = await google.colab.kernel.invokeFunction(\n",
              "            'suggestCharts', [key], {});\n",
              "      } catch (error) {\n",
              "        console.error('Error during call to suggestCharts:', error);\n",
              "      }\n",
              "      quickchartButtonEl.classList.remove('colab-df-spinner');\n",
              "      quickchartButtonEl.classList.add('colab-df-quickchart-complete');\n",
              "    }\n",
              "    (() => {\n",
              "      let quickchartButtonEl =\n",
              "        document.querySelector('#df-40d5b335-f75e-44b9-8731-1e325a8b4e57 button');\n",
              "      quickchartButtonEl.style.display =\n",
              "        google.colab.kernel.accessAllowed ? 'block' : 'none';\n",
              "    })();\n",
              "  </script>\n",
              "</div>\n",
              "    </div>\n",
              "  </div>\n"
            ]
          },
          "metadata": {},
          "execution_count": 97
        }
      ]
    },
    {
      "cell_type": "code",
      "source": [
        "X_cs_Test = cs_data.drop('status', axis=1)"
      ],
      "metadata": {
        "id": "6QHpUorPgp2G"
      },
      "execution_count": 98,
      "outputs": []
    },
    {
      "cell_type": "code",
      "source": [
        "y_cs_test_pred = model.predict(X_cs_Test)"
      ],
      "metadata": {
        "id": "TvXfrkNZhF91"
      },
      "execution_count": 99,
      "outputs": []
    },
    {
      "cell_type": "code",
      "source": [
        "y_cs_test_pred"
      ],
      "metadata": {
        "colab": {
          "base_uri": "https://localhost:8080/"
        },
        "id": "Z7FOee1shble",
        "outputId": "faf11bb5-60b3-4d20-f09e-8f2a749f7944"
      },
      "execution_count": 100,
      "outputs": [
        {
          "output_type": "execute_result",
          "data": {
            "text/plain": [
              "array([0., 0., 1.])"
            ]
          },
          "metadata": {},
          "execution_count": 100
        }
      ]
    },
    {
      "cell_type": "markdown",
      "source": [
        "Thus, we see that out of the three companies, only the Canadian E-commerce company is acquired."
      ],
      "metadata": {
        "id": "IWolzxUejGKg"
      }
    },
    {
      "cell_type": "markdown",
      "source": [
        "### Hyperparameter Tuning"
      ],
      "metadata": {
        "id": "Ji-f8fkeY8je"
      }
    },
    {
      "cell_type": "code",
      "source": [
        "# Set up the random search for hyperparameter tuning\n",
        "\n",
        "random_param_grid = {'max_depth': range(10,50),\n",
        "                     'learning_rate': uniform(0,1),\n",
        "                     'max_leaf_nodes': range(1,100)}\n",
        "\n",
        "random = RandomizedSearchCV(estimator=gbt, param_distributions=random_param_grid,\n",
        "                            n_iter=10, cv=3, verbose=3, scoring= 'accuracy', error_score='raise')\n",
        "\n",
        "\n",
        "\n",
        "random.fit(X_train_ros,y_train_ros)\n",
        "\n",
        "random.best_score_\n",
        "\n",
        "random.best_params_\n",
        "\n",
        "random.best_estimator_\n",
        "\n",
        "\n",
        "# First Run:\n",
        "# GradientBoostingClassifier(learning_rate=0.6468613736561171, max_depth=40,max_leaf_nodes=95, random_state=147017)\n",
        "# Second Run with 14 features:\n",
        "# GradientBoostingClassifier(learning_rate=0.5847829080787613, max_depth=28, max_leaf_nodes=95, random_state=147017)"
      ],
      "metadata": {
        "colab": {
          "base_uri": "https://localhost:8080/",
          "height": 630
        },
        "id": "6nwMeB7Hcito",
        "outputId": "93462d34-bb91-47c9-ef32-ed6ab353007b"
      },
      "execution_count": null,
      "outputs": [
        {
          "output_type": "stream",
          "name": "stdout",
          "text": [
            "Fitting 3 folds for each of 10 candidates, totalling 30 fits\n",
            "[CV 1/3] END learning_rate=0.5847829080787613, max_depth=28, max_leaf_nodes=95;, score=0.945 total time=  14.4s\n",
            "[CV 2/3] END learning_rate=0.5847829080787613, max_depth=28, max_leaf_nodes=95;, score=0.946 total time=  10.1s\n",
            "[CV 3/3] END learning_rate=0.5847829080787613, max_depth=28, max_leaf_nodes=95;, score=0.947 total time=   9.8s\n",
            "[CV 1/3] END learning_rate=0.7855372173583877, max_depth=11, max_leaf_nodes=95;, score=0.942 total time=  16.2s\n",
            "[CV 2/3] END learning_rate=0.7855372173583877, max_depth=11, max_leaf_nodes=95;, score=0.947 total time=  13.0s\n",
            "[CV 3/3] END learning_rate=0.7855372173583877, max_depth=11, max_leaf_nodes=95;, score=0.946 total time=  13.7s\n",
            "[CV 1/3] END learning_rate=0.3340109334832142, max_depth=22, max_leaf_nodes=94;, score=0.936 total time=  10.1s\n",
            "[CV 2/3] END learning_rate=0.3340109334832142, max_depth=22, max_leaf_nodes=94;, score=0.940 total time=   9.5s\n",
            "[CV 3/3] END learning_rate=0.3340109334832142, max_depth=22, max_leaf_nodes=94;, score=0.938 total time=  10.2s\n",
            "[CV 1/3] END learning_rate=0.6918645107692001, max_depth=22, max_leaf_nodes=25;, score=0.903 total time=   7.0s\n",
            "[CV 2/3] END learning_rate=0.6918645107692001, max_depth=22, max_leaf_nodes=25;, score=0.900 total time=   6.4s\n",
            "[CV 3/3] END learning_rate=0.6918645107692001, max_depth=22, max_leaf_nodes=25;, score=0.899 total time=   7.7s\n",
            "[CV 1/3] END learning_rate=0.38803608890144803, max_depth=34, max_leaf_nodes=3;, score=0.779 total time=   4.3s\n",
            "[CV 2/3] END learning_rate=0.38803608890144803, max_depth=34, max_leaf_nodes=3;, score=0.780 total time=   5.2s\n",
            "[CV 3/3] END learning_rate=0.38803608890144803, max_depth=34, max_leaf_nodes=3;, score=0.780 total time=   4.2s\n",
            "[CV 1/3] END learning_rate=0.7123519928066016, max_depth=47, max_leaf_nodes=38;, score=0.922 total time=   7.7s\n",
            "[CV 2/3] END learning_rate=0.7123519928066016, max_depth=47, max_leaf_nodes=38;, score=0.924 total time=   7.0s\n",
            "[CV 3/3] END learning_rate=0.7123519928066016, max_depth=47, max_leaf_nodes=38;, score=0.920 total time=   7.7s\n",
            "[CV 1/3] END learning_rate=0.8358770923051586, max_depth=24, max_leaf_nodes=22;, score=0.903 total time=   6.4s\n",
            "[CV 2/3] END learning_rate=0.8358770923051586, max_depth=24, max_leaf_nodes=22;, score=0.893 total time=   6.9s\n",
            "[CV 3/3] END learning_rate=0.8358770923051586, max_depth=24, max_leaf_nodes=22;, score=0.903 total time=   6.2s\n",
            "[CV 1/3] END learning_rate=0.7128555432580082, max_depth=29, max_leaf_nodes=77;, score=0.940 total time=   9.6s\n",
            "[CV 2/3] END learning_rate=0.7128555432580082, max_depth=29, max_leaf_nodes=77;, score=0.943 total time=   9.0s\n",
            "[CV 3/3] END learning_rate=0.7128555432580082, max_depth=29, max_leaf_nodes=77;, score=0.942 total time=   8.5s\n",
            "[CV 1/3] END learning_rate=0.11330834656651223, max_depth=40, max_leaf_nodes=65;, score=0.879 total time=  10.5s\n",
            "[CV 2/3] END learning_rate=0.11330834656651223, max_depth=40, max_leaf_nodes=65;, score=0.879 total time=  11.5s\n",
            "[CV 3/3] END learning_rate=0.11330834656651223, max_depth=40, max_leaf_nodes=65;, score=0.879 total time=  11.3s\n",
            "[CV 1/3] END learning_rate=0.7279977617484478, max_depth=23, max_leaf_nodes=23;, score=0.894 total time=   7.1s\n",
            "[CV 2/3] END learning_rate=0.7279977617484478, max_depth=23, max_leaf_nodes=23;, score=0.899 total time=   6.3s\n",
            "[CV 3/3] END learning_rate=0.7279977617484478, max_depth=23, max_leaf_nodes=23;, score=0.900 total time=   7.2s\n"
          ]
        },
        {
          "output_type": "execute_result",
          "data": {
            "text/plain": [
              "GradientBoostingClassifier(learning_rate=0.5847829080787613, max_depth=28,\n",
              "                           max_leaf_nodes=95, random_state=147017)"
            ],
            "text/html": [
              "<style>#sk-container-id-1 {color: black;background-color: white;}#sk-container-id-1 pre{padding: 0;}#sk-container-id-1 div.sk-toggleable {background-color: white;}#sk-container-id-1 label.sk-toggleable__label {cursor: pointer;display: block;width: 100%;margin-bottom: 0;padding: 0.3em;box-sizing: border-box;text-align: center;}#sk-container-id-1 label.sk-toggleable__label-arrow:before {content: \"▸\";float: left;margin-right: 0.25em;color: #696969;}#sk-container-id-1 label.sk-toggleable__label-arrow:hover:before {color: black;}#sk-container-id-1 div.sk-estimator:hover label.sk-toggleable__label-arrow:before {color: black;}#sk-container-id-1 div.sk-toggleable__content {max-height: 0;max-width: 0;overflow: hidden;text-align: left;background-color: #f0f8ff;}#sk-container-id-1 div.sk-toggleable__content pre {margin: 0.2em;color: black;border-radius: 0.25em;background-color: #f0f8ff;}#sk-container-id-1 input.sk-toggleable__control:checked~div.sk-toggleable__content {max-height: 200px;max-width: 100%;overflow: auto;}#sk-container-id-1 input.sk-toggleable__control:checked~label.sk-toggleable__label-arrow:before {content: \"▾\";}#sk-container-id-1 div.sk-estimator input.sk-toggleable__control:checked~label.sk-toggleable__label {background-color: #d4ebff;}#sk-container-id-1 div.sk-label input.sk-toggleable__control:checked~label.sk-toggleable__label {background-color: #d4ebff;}#sk-container-id-1 input.sk-hidden--visually {border: 0;clip: rect(1px 1px 1px 1px);clip: rect(1px, 1px, 1px, 1px);height: 1px;margin: -1px;overflow: hidden;padding: 0;position: absolute;width: 1px;}#sk-container-id-1 div.sk-estimator {font-family: monospace;background-color: #f0f8ff;border: 1px dotted black;border-radius: 0.25em;box-sizing: border-box;margin-bottom: 0.5em;}#sk-container-id-1 div.sk-estimator:hover {background-color: #d4ebff;}#sk-container-id-1 div.sk-parallel-item::after {content: \"\";width: 100%;border-bottom: 1px solid gray;flex-grow: 1;}#sk-container-id-1 div.sk-label:hover label.sk-toggleable__label {background-color: #d4ebff;}#sk-container-id-1 div.sk-serial::before {content: \"\";position: absolute;border-left: 1px solid gray;box-sizing: border-box;top: 0;bottom: 0;left: 50%;z-index: 0;}#sk-container-id-1 div.sk-serial {display: flex;flex-direction: column;align-items: center;background-color: white;padding-right: 0.2em;padding-left: 0.2em;position: relative;}#sk-container-id-1 div.sk-item {position: relative;z-index: 1;}#sk-container-id-1 div.sk-parallel {display: flex;align-items: stretch;justify-content: center;background-color: white;position: relative;}#sk-container-id-1 div.sk-item::before, #sk-container-id-1 div.sk-parallel-item::before {content: \"\";position: absolute;border-left: 1px solid gray;box-sizing: border-box;top: 0;bottom: 0;left: 50%;z-index: -1;}#sk-container-id-1 div.sk-parallel-item {display: flex;flex-direction: column;z-index: 1;position: relative;background-color: white;}#sk-container-id-1 div.sk-parallel-item:first-child::after {align-self: flex-end;width: 50%;}#sk-container-id-1 div.sk-parallel-item:last-child::after {align-self: flex-start;width: 50%;}#sk-container-id-1 div.sk-parallel-item:only-child::after {width: 0;}#sk-container-id-1 div.sk-dashed-wrapped {border: 1px dashed gray;margin: 0 0.4em 0.5em 0.4em;box-sizing: border-box;padding-bottom: 0.4em;background-color: white;}#sk-container-id-1 div.sk-label label {font-family: monospace;font-weight: bold;display: inline-block;line-height: 1.2em;}#sk-container-id-1 div.sk-label-container {text-align: center;}#sk-container-id-1 div.sk-container {/* jupyter's `normalize.less` sets `[hidden] { display: none; }` but bootstrap.min.css set `[hidden] { display: none !important; }` so we also need the `!important` here to be able to override the default hidden behavior on the sphinx rendered scikit-learn.org. See: https://github.com/scikit-learn/scikit-learn/issues/21755 */display: inline-block !important;position: relative;}#sk-container-id-1 div.sk-text-repr-fallback {display: none;}</style><div id=\"sk-container-id-1\" class=\"sk-top-container\"><div class=\"sk-text-repr-fallback\"><pre>GradientBoostingClassifier(learning_rate=0.5847829080787613, max_depth=28,\n",
              "                           max_leaf_nodes=95, random_state=147017)</pre><b>In a Jupyter environment, please rerun this cell to show the HTML representation or trust the notebook. <br />On GitHub, the HTML representation is unable to render, please try loading this page with nbviewer.org.</b></div><div class=\"sk-container\" hidden><div class=\"sk-item\"><div class=\"sk-estimator sk-toggleable\"><input class=\"sk-toggleable__control sk-hidden--visually\" id=\"sk-estimator-id-1\" type=\"checkbox\" checked><label for=\"sk-estimator-id-1\" class=\"sk-toggleable__label sk-toggleable__label-arrow\">GradientBoostingClassifier</label><div class=\"sk-toggleable__content\"><pre>GradientBoostingClassifier(learning_rate=0.5847829080787613, max_depth=28,\n",
              "                           max_leaf_nodes=95, random_state=147017)</pre></div></div></div></div></div>"
            ]
          },
          "metadata": {},
          "execution_count": 101
        }
      ]
    },
    {
      "cell_type": "code",
      "source": [
        "# Save latest verion of model as pickle file\n",
        "import pickle\n",
        "\n",
        "# Save the model\n",
        "with open('model.pkl', 'wb') as f:\n",
        "  pickle.dump(model, f)"
      ],
      "metadata": {
        "id": "45ywaMKatpOm"
      },
      "execution_count": null,
      "outputs": []
    }
  ]
}